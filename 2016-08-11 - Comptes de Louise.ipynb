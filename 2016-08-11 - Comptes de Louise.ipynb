{
 "cells": [
  {
   "cell_type": "code",
   "execution_count": 1,
   "metadata": {
    "collapsed": true
   },
   "outputs": [],
   "source": [
    "# Pour programmer il y a plusieurs langages qu'on peut utiliser pour donner des ordres (suites d'instructions) à l'ordinateur\n",
    "# Pour apprendre (et même pour les pros), le langage PYTHON est très bien. Je ne l'ai jamais utilisé pour ma part au boulot`\n",
    "# mais j'en profite pour l'apprendre et te montrer les bases\n",
    "\n"
   ]
  },
  {
   "cell_type": "code",
   "execution_count": 2,
   "metadata": {
    "collapsed": false
   },
   "outputs": [
    {
     "data": {
      "text/plain": [
       "6"
      ]
     },
     "execution_count": 2,
     "metadata": {},
     "output_type": "execute_result"
    }
   ],
   "source": [
    "# Tout d'abord on peut faire des calculs...\n",
    "2+4"
   ]
  },
  {
   "cell_type": "code",
   "execution_count": 3,
   "metadata": {
    "collapsed": false
   },
   "outputs": [
    {
     "data": {
      "text/plain": [
       "2858766"
      ]
     },
     "execution_count": 3,
     "metadata": {},
     "output_type": "execute_result"
    }
   ],
   "source": [
    "# Supeeerrrrr\n",
    "# On peut faire des super calculs aussi, c'est comme une calculatrice, ça fonce\n",
    "23242 * 123"
   ]
  },
  {
   "cell_type": "code",
   "execution_count": 5,
   "metadata": {
    "collapsed": true
   },
   "outputs": [],
   "source": [
    "# Wahou, génial... en fait, non, c'est nul. C'est pas ça, programmer. Programmer c'est prévoir des trucs que va faire la machine\n",
    "# Ces trucs s'appellent des instructions. Les calculs que fait la machine, les différentes valeurs peuvent être conservées\n",
    "# pour être réutilisées plus tard. On appelle ça des variables"
   ]
  },
  {
   "cell_type": "code",
   "execution_count": 6,
   "metadata": {
    "collapsed": true
   },
   "outputs": [],
   "source": [
    "# Par exemple, on peut dire que dans la variable taille, on va conserver... la valeur d'une taille.\n",
    "taille = 178 #Valeur en cm.\n"
   ]
  },
  {
   "cell_type": "code",
   "execution_count": 7,
   "metadata": {
    "collapsed": true
   },
   "outputs": [],
   "source": [
    "# Au passage, en langage PYTHON, quand on commence le texte par un #, tout ce qui suit est un commentaire -> l'ordinateur ne \n",
    "# ne cherchera pas à comprendre ce qui est écrit en commentaire. Par contre, c'est pratique pour expliquer ce qu'on fait.\n"
   ]
  },
  {
   "cell_type": "code",
   "execution_count": 8,
   "metadata": {
    "collapsed": false
   },
   "outputs": [
    {
     "name": "stdout",
     "output_type": "stream",
     "text": [
      "178\n"
     ]
    }
   ],
   "source": [
    "# Bon, on a une variable \"taille\". On peut maintenant la rappeler, l'afficher, ou l'utiliser dans un calcul :\n",
    "print(taille); # print est une \"instruction\" qui demande à l'ordinateur d'afficher la variable."
   ]
  },
  {
   "cell_type": "code",
   "execution_count": 20,
   "metadata": {
    "collapsed": false
   },
   "outputs": [
    {
     "name": "stdout",
     "output_type": "stream",
     "text": [
      "179\n"
     ]
    }
   ],
   "source": [
    "# On peut changer la valeur.\n",
    "taille = 179\n",
    "print(taille)"
   ]
  },
  {
   "cell_type": "code",
   "execution_count": 21,
   "metadata": {
    "collapsed": false
   },
   "outputs": [
    {
     "name": "stdout",
     "output_type": "stream",
     "text": [
      "178\n"
     ]
    }
   ],
   "source": [
    "# Ou faire un calcul :\n",
    "taille = taille - 1;\n",
    "# Alors ce sera quoi la valeur de taille ? \n",
    "print(taille)"
   ]
  },
  {
   "cell_type": "code",
   "execution_count": 23,
   "metadata": {
    "collapsed": true
   },
   "outputs": [],
   "source": [
    "# Dans l'ordinateur, dans le programme, il y a une petite case mémoire qui en réalité a une adresse du genre &23FB213\n",
    "# Mais nous, cette case, on lui a donné un nom : \"taille\"\n"
   ]
  },
  {
   "cell_type": "code",
   "execution_count": 28,
   "metadata": {
    "collapsed": false
   },
   "outputs": [
    {
     "name": "stdout",
     "output_type": "stream",
     "text": [
      "175\n"
     ]
    }
   ],
   "source": [
    "# Maintenant comme tu as vu, on peut faire une suite d'opération sur cette variable.\n",
    "taille = 178\n",
    "taille = taille - 1\n",
    "taille = taille - 1\n",
    "taille = taille - 1\n",
    "\n",
    "# Alors combien vaut taille ?\n",
    "print(taille)"
   ]
  },
  {
   "cell_type": "code",
   "execution_count": 2,
   "metadata": {
    "collapsed": false
   },
   "outputs": [
    {
     "name": "stdout",
     "output_type": "stream",
     "text": [
      "Toutes mes dépenses :  [12, 25, 50]\n"
     ]
    },
    {
     "data": {
      "text/plain": [
       "163"
      ]
     },
     "execution_count": 2,
     "metadata": {},
     "output_type": "execute_result"
    }
   ],
   "source": [
    "# Maintenant on va faire un truc plus sympa. \n",
    "# On va utiliser une variable \"compte\" qui contient l'argent que tu as sur ton compte.\n",
    "# Allez, disons que tu as 250€\n",
    "# <- hastag, sign number, octomachin, dièse...\n",
    "\n",
    "compte = 250\n",
    "\n",
    "# Maintenant on va stocker dans un TABLEAU, toutes tes dépenses.\n",
    "# mais c'est quoi un tableau ? Ben, C'est une variable (comme taille), mais qui peut contenir plein de valeurs mises \n",
    "# les unes à la suite des autres.\n",
    "\n",
    "depense = [] # voilà un beau tableau vide.\n",
    "\n",
    "# Maintenant on va rajouter des dépenses...\n",
    "depense.append(12);\n",
    "depense\n",
    "\n",
    "# On peut en rajouter autant qu'on veut...\n",
    "depense.append(25); # Un tshirt :)\n",
    "depense.append(50); # des shoes en soldes :-P\n",
    "print(\"Toutes mes dépenses : \", depense)\n",
    "\n",
    "# Super, maintenant on a ton compte, et des dépenses...\n",
    "# Avec une calculatrice, tu pourrais calculer ce qu'il te reste comme ça :\n",
    "compte = compte - 12;\n",
    "compte = compte - 25;\n",
    "compte = compte - 50;\n",
    "\n",
    "compte\n",
    "\n"
   ]
  },
  {
   "cell_type": "code",
   "execution_count": 4,
   "metadata": {
    "collapsed": false
   },
   "outputs": [
    {
     "name": "stdout",
     "output_type": "stream",
     "text": [
      "Toutes mes dépenses :  [12, 25, 50]\n",
      "Ma deuxième dépense :  25\n",
      "Le solde de mon comtpe est maintenant de :  163\n",
      "Le solde de mon comtpe est maintenant de :  163\n"
     ]
    }
   ],
   "source": [
    "depense = [] # voilà un beau tableau vide.\n",
    "\n",
    "# Maintenant on va rajouter des dépenses...\n",
    "depense.append(12);\n",
    "depense\n",
    "\n",
    "# On peut en rajouter autant qu'on veut...\n",
    "depense.append(25); # Un tshirt :)\n",
    "depense.append(50); # des shoes en soldes :-P\n",
    "print(\"Toutes mes dépenses : \", depense)\n",
    "\n",
    "# Ouais, mais en fait, c'est nul, car si tu rajoutes des dépenses etc, il faut tout retaper... et on peut faire des erreurs.\n",
    "# A la place, on pourrait déjà réutiliser le tableau de dépenses qu'on a !\n",
    "\n",
    "# Pour accéder aux valeurs de notre tableau, on utilise leur INDEX (= position dans le tableau). Ici on a trois valeurs (12, 25 et 50). Alors, en \n",
    "# informatique, les informaticiens ont l'habitude de commencer à compter avec le chiffre... 4 ? 2 ? 1 ? non ! 0 !!!\n",
    "\n",
    "# Donc par exemple, pour afficher ta deuxième dépense (25) il faudra utiliser l'index... 1\n",
    "print(\"Ma deuxième dépense : \", depense[1]) # pour accéder à la valeur du tableau, on met son INDEX (position) entre crochets\n",
    "\n",
    "# Du coup, pour calculer le solde de ton compte, on n'a plus qu'à faire les trois soustractions :\n",
    "compte = 250 # je remets ton compte au solde de départ.\n",
    "compte = compte - depense[0]\n",
    "compte = compte - depense[1]\n",
    "compte = compte - depense[2]\n",
    "print(\"Le solde de mon comtpe est maintenant de : \", compte)\n",
    "\n",
    "# C'est cool mais en fait, c'est toujours nul :)\n",
    "# Car si tu as 543 dépenses, ça va être TRES long à écrire,\n",
    "# et si on rajoute des dépenses en cours de route c'est le bazar...\n",
    "\n",
    "# Donc les ordinateurs, comme tu a vu \"exécute\" les programmes ligne après ligne -> TRES IMPORTANT.\n",
    "# Mais heureusemement, on peut demander au programme de faire comme s'il revenait en arrière.... \n",
    "# Pour lui faire faire plein de fois la même chose ou presque. Cela s'appelle une BOUCLE\n",
    "# Tu as déjà appris plusieurs mots : VARIABLE, TABLEAU, INDEX, INSTRUCTION, COMMENTAIRE, BOUCLE.\n",
    "\n",
    "# Alors comment faire une boucle ici pour calculer le solde de ton compte ???\n",
    "# Si on observe les trois lignes du dessus, on voit qu'on écrit PRESQUE toujours pareil : compte = compte - depense[0]\n",
    "# Seul l'INDEX change\n",
    "# On va donc mettre la valeur de cet index dans une variable et on va la faire changer :\n",
    "\n",
    "compte = 250 # je remets ton compte au solde de départ.\n",
    "i = 0 # i est le nom de ma variable qui contient l'index\n",
    "compte = compte - depense[i]\n",
    "compte = compte - depense[i+1]\n",
    "compte = compte - depense[i+2]\n",
    "print(\"Le solde de mon comtpe est maintenant de : \", compte)\n",
    "\n"
   ]
  },
  {
   "cell_type": "code",
   "execution_count": 5,
   "metadata": {
    "collapsed": false
   },
   "outputs": [
    {
     "name": "stdout",
     "output_type": "stream",
     "text": [
      "range(1, 10)\n",
      "Toutes mes dépenses :  [12, 25, 50]\n",
      "Le solde de mon comtpe est maintenant de :  163\n",
      "Après avoir dépensé  12  il reste  238 € sur le compte\n",
      "Après avoir dépensé  25  il reste  213 € sur le compte\n",
      "Après avoir dépensé  50  il reste  163 € sur le compte\n",
      "Après avoir dépensé  12  il reste  151 € sur le compte\n",
      "Après avoir dépensé  2  il reste  149 € sur le compte\n",
      "Après avoir dépensé  50  il reste  99 € sur le compte\n",
      "Après avoir dépensé  5  il reste  94 € sur le compte\n",
      "Après avoir dépensé  10  il reste  84 € sur le compte\n",
      "Après avoir dépensé  2  il reste  82 € sur le compte\n",
      "Après avoir dépensé  25  il reste  57 € sur le compte\n",
      "Après avoir dépensé  1  il reste  56 € sur le compte\n",
      "Après avoir dépensé  7  il reste  49 € sur le compte\n",
      "Après avoir dépensé  6  il reste  43 € sur le compte\n",
      "Après avoir dépensé  3  il reste  40 € sur le compte\n",
      "Après avoir dépensé  6  il reste  34 € sur le compte\n",
      "Après avoir dépensé  3  il reste  31 € sur le compte\n",
      "Après avoir dépensé  -100  il reste  131 € sur le compte\n",
      "Après avoir dépensé  30  il reste  101 € sur le compte\n"
     ]
    },
    {
     "data": {
      "text/plain": [
       "[<matplotlib.lines.Line2D at 0x10cc81400>]"
      ]
     },
     "execution_count": 5,
     "metadata": {},
     "output_type": "execute_result"
    },
    {
     "data": {
      "image/png": "[encoded data removed]",
      "text/plain": [
       "<matplotlib.figure.Figure at 0x10c489f98>"
      ]
     },
     "metadata": {},
     "output_type": "display_data"
    }
   ],
   "source": [
    "# Toujours aussi nul, car toujours trois lignes écrites...\n",
    "# Maintenant on va faire la boucle. Pour la faire, on utilise l'instruction FOR (qui veut dire :\n",
    "# \"pour tout valeur que je te donne, execute les instructions qui suivent\")\n",
    "\n",
    "# Avant il faut comprendre l'instruction RANGE. Cette instruction en anglais veut dire \"étendue\", \"gamme de valeurs\"\n",
    "# Par exemple range(1,10), va créer les valeurs 1, 2, 3.... jusqu'à 10.\n",
    "liste = range(1,10);\n",
    "print(liste);\n",
    "\n",
    "compte = 250 # je remets ton compte au solde de départ.\n",
    "\n",
    "depense = [] # voilà un beau tableau vide.\n",
    "# Maintenant on va rajouter des dépenses...\n",
    "depense.append(12);\n",
    "depense\n",
    "\n",
    "# On peut en rajouter autant qu'on veut...\n",
    "depense.append(25); # Un tshirt :)\n",
    "depense.append(50); # des shoes en soldes :-P\n",
    "print(\"Toutes mes dépenses : \", depense)\n",
    "\n",
    "\n",
    "# Maintenant avec la boucle for, on va dire de faire 3 fois la boucle\n",
    "for i in range(0,3):  # compter de 0 à 2 c'est pareil que compte de 1 à 3... ok ? Attention, la dernière valeur \n",
    "    # n'est pas incluse (comme quand tu as vu les ensemble en math avec [0,2[ ... donc là pour aller de 0 à 2, il faut \n",
    "    # écrire 0,3)\n",
    "    compte = compte - depense[i]\n",
    "    \n",
    "print(\"Le solde de mon comtpe est maintenant de : \", compte)\n",
    "\n",
    "# là ça devient cool, car même si tu as plein de dépenses, pour calculer tu auras toujours les mêmes petites lignes :\n",
    "compte = 250 # je remets ton compte au solde de départ.\n",
    "depense.append(12);\n",
    "depense.append(2); # Un tshirt :)\n",
    "depense.append(50); # des shoes en soldes :-P\n",
    "depense.append(5);\n",
    "depense.append(10);\n",
    "depense.append(2);\n",
    "depense.append(25);\n",
    "depense.append(1);\n",
    "depense.append(7);\n",
    "depense.append(6);\n",
    "depense.append(3);\n",
    "depense.append(6);\n",
    "depense.append(3);\n",
    "depense.append(-100);\n",
    "depense.append(30);\n",
    "\n",
    "\n",
    "historique = [];\n",
    "\n",
    "historique.append(compte); # On garde dans l'historique la valeur du compte\n",
    "\n",
    "#Pour calculer on écrit juste :\n",
    "for i in range(0,len(depense)): # len = length = longeur en anglais.  \n",
    "    compte = compte - depense[i]\n",
    "    historique.append(compte); # On garde dans l'historique la valeur du compte\n",
    "    print(\"Après avoir dépensé \", depense[i], \" il reste \", compte, \"€ sur le compte\");\n",
    "\n",
    "    \n",
    "# Pour finir, on va faire un graphique de ton compte\n",
    "%matplotlib inline\n",
    "\n",
    "import matplotlib.pyplot as pl\n",
    "\n",
    "pl.plot(historique)"
   ]
  },
  {
   "cell_type": "code",
   "execution_count": null,
   "metadata": {
    "collapsed": true
   },
   "outputs": [],
   "source": []
  },
  {
   "cell_type": "code",
   "execution_count": null,
   "metadata": {
    "collapsed": true
   },
   "outputs": [],
   "source": []
  }
 ],
 "metadata": {
  "kernelspec": {
   "display_name": "Python 3",
   "language": "python",
   "name": "python3"
  },
  "language_info": {
   "codemirror_mode": {
    "name": "ipython",
    "version": 3
   },
   "file_extension": ".py",
   "mimetype": "text/x-python",
   "name": "python",
   "nbconvert_exporter": "python",
   "pygments_lexer": "ipython3",
   "version": "3.5.1"
  }
 },
 "nbformat": 4,
 "nbformat_minor": 0
}
